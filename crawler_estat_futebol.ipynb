{
 "cells": [
  {
   "cell_type": "code",
   "execution_count": null,
   "metadata": {},
   "outputs": [],
   "source": []
  },
  {
   "cell_type": "code",
   "execution_count": 32,
   "metadata": {},
   "outputs": [
    {
     "name": "stdout",
     "output_type": "stream",
     "text": [
      "Dados capturados, tchau!\n"
     ]
    }
   ],
   "source": [
    "from selenium import webdriver\n",
    "from selenium.webdriver.support.ui import WebDriverWait\n",
    "from time import sleep\n",
    "import pandas as pd\n",
    "\n",
    "url = 'https://www.futebolcearense.com.br/2020/tabela.asp?idcamp=376'\n",
    "options = webdriver.ChromeOptions()\n",
    "\n",
    "#df = pd.read_excel('D:/Documentos/Dadá/challenge.xlsx')\n",
    "\n",
    "path_destino = 'D:/Documentos/Dadá/dados_campeonato_cearense/'\n",
    "\n",
    "bt_classificacao = '/html/body/div[4]/div/div[2]/div/div/div/ul/li[2]/a'\n",
    "grupo_a = '//*[@id=\"section2\"]/div/div/div/table[1]'\n",
    "grupo_b = '//*[@id=\"section2\"]/div/div/div/table[2]'\n",
    "bt_artilharia = '/html/body/div[4]/div/div[2]/div/div/div/ul/li[3]/a'\n",
    "tb_artilharia = '//*[@id=\"section3\"]/div/div/div/table'\n",
    "\n",
    "driver = webdriver.Chrome(executable_path='D:/Documentos/chromedriver/chromedriver.exe', options=options)\n",
    "driver.get(url)\n",
    "\n",
    "sleep(5)\n",
    "\n",
    "driver.find_element_by_xpath(bt_classificacao).click()\n",
    "\n",
    "sleep(3)\n",
    "\n",
    "gr_a = driver.find_element_by_xpath(grupo_a).get_attribute('outerHTML')\n",
    "df_a  = pd.read_html(gr_a)\n",
    "for i, table in enumerate(df_a):\n",
    "    table.to_csv(path_destino+'tabela_cearense_grupo_a.csv'.format(i),';', encoding='cp1252', index= None)\n",
    "\n",
    "gr_b = driver.find_element_by_xpath(grupo_b).get_attribute('outerHTML')\n",
    "df_b  = pd.read_html(gr_b)\n",
    "for i, table in enumerate(df_b):\n",
    "    table.to_csv(path_destino+'tabela_cearense_grupo_b.csv'.format(i),';', encoding='cp1252', index= None)\n",
    "\n",
    "sleep(2)\n",
    "\n",
    "driver.find_element_by_xpath(bt_artilharia).click()\n",
    "tb_art = driver.find_element_by_xpath(tb_artilharia).get_attribute('outerHTML')\n",
    "df_art  = pd.read_html(tb_art)\n",
    "for i, table in enumerate(df_art):\n",
    "    table.to_csv(path_destino+'artilharia.csv'.format(i),';', encoding='cp1252', index= None)\n",
    "\n",
    "print('Dados capturados, tchau!')   \n",
    "\n",
    "\n",
    "driver.close()\n"
   ]
  }
 ],
 "metadata": {
  "kernelspec": {
   "display_name": "base",
   "language": "python",
   "name": "python3"
  },
  "language_info": {
   "codemirror_mode": {
    "name": "ipython",
    "version": 3
   },
   "file_extension": ".py",
   "mimetype": "text/x-python",
   "name": "python",
   "nbconvert_exporter": "python",
   "pygments_lexer": "ipython3",
   "version": "3.8.5"
  },
  "orig_nbformat": 4,
  "vscode": {
   "interpreter": {
    "hash": "85a637b0e8fb8e389a6f0733564a04fc61952eda907f38aef9ec40e0e57e04f0"
   }
  }
 },
 "nbformat": 4,
 "nbformat_minor": 2
}
